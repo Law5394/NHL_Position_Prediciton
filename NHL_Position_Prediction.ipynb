{
 "cells": [
  {
   "cell_type": "code",
   "execution_count": 1,
   "metadata": {},
   "outputs": [
    {
     "name": "stderr",
     "output_type": "stream",
     "text": [
      "C:\\Users\\James\\Anaconda3\\lib\\site-packages\\sklearn\\cross_validation.py:41: DeprecationWarning: This module was deprecated in version 0.18 in favor of the model_selection module into which all the refactored classes and functions are moved. Also note that the interface of the new CV iterators are different from that of this module. This module will be removed in 0.20.\n",
      "  \"This module will be removed in 0.20.\", DeprecationWarning)\n"
     ]
    }
   ],
   "source": [
    "# importing modules\n",
    "\n",
    "# Accessing NHL api\n",
    "import requests\n",
    "\n",
    "# Holding and working with data\n",
    "import pandas as pd\n",
    "import numpy as np\n",
    "\n",
    "# Graphing Data\n",
    "import matplotlib.pyplot as plt\n",
    "\n",
    "# Machine Learning\n",
    "from sklearn.model_selection import train_test_split\n",
    "from sklearn import preprocessing, cross_validation\n",
    "from sklearn.ensemble import RandomForestClassifier\n",
    "from sklearn.neighbors import KNeighborsClassifier"
   ]
  },
  {
   "cell_type": "code",
   "execution_count": 23,
   "metadata": {},
   "outputs": [],
   "source": [
    "# Getting data\n",
    "skaters_url = 'http://www.nhl.com/stats/rest/skaters?isAggregate=false&reportType=basic&isGame=false&reportName=skatersummary&sort=[{%22property%22:%22points%22,%22direction%22:%22DESC%22},{%22property%22:%22goals%22,%22direction%22:%22DESC%22},{%22property%22:%22assists%22,%22direction%22:%22DESC%22}]&cayenneExp=gameTypeId=2%20and%20seasonId%3E=20172018%20and%20seasonId%3C=20172018'\n",
    "\n",
    "response = requests.get(skaters_url)\n",
    "response.raise_for_status()\n",
    "playerData = pd.DataFrame(response.json()['data'])"
   ]
  },
  {
   "cell_type": "code",
   "execution_count": 24,
   "metadata": {},
   "outputs": [
    {
     "data": {
      "text/plain": [
       "['assists',\n",
       " 'faceoffWinPctg',\n",
       " 'gameWinningGoals',\n",
       " 'gamesPlayed',\n",
       " 'goals',\n",
       " 'otGoals',\n",
       " 'penaltyMinutes',\n",
       " 'playerBirthCity',\n",
       " 'playerBirthCountry',\n",
       " 'playerBirthDate',\n",
       " 'playerBirthStateProvince',\n",
       " 'playerDraftOverallPickNo',\n",
       " 'playerDraftRoundNo',\n",
       " 'playerDraftYear',\n",
       " 'playerFirstName',\n",
       " 'playerHeight',\n",
       " 'playerId',\n",
       " 'playerInHockeyHof',\n",
       " 'playerIsActive',\n",
       " 'playerLastName',\n",
       " 'playerName',\n",
       " 'playerNationality',\n",
       " 'playerPositionCode',\n",
       " 'playerShootsCatches',\n",
       " 'playerTeamsPlayedFor',\n",
       " 'playerWeight',\n",
       " 'plusMinus',\n",
       " 'points',\n",
       " 'pointsPerGame',\n",
       " 'ppGoals',\n",
       " 'ppPoints',\n",
       " 'seasonId',\n",
       " 'shGoals',\n",
       " 'shPoints',\n",
       " 'shiftsPerGame',\n",
       " 'shootingPctg',\n",
       " 'shots',\n",
       " 'timeOnIcePerGame']"
      ]
     },
     "execution_count": 24,
     "metadata": {},
     "output_type": "execute_result"
    }
   ],
   "source": [
    "# Checking out data features\n",
    "list(playerData)"
   ]
  },
  {
   "cell_type": "code",
   "execution_count": 25,
   "metadata": {},
   "outputs": [],
   "source": [
    "# Dropping goalies\n",
    "playerData = playerData[playerData.playerPositionCode != 'G']"
   ]
  },
  {
   "cell_type": "code",
   "execution_count": 26,
   "metadata": {},
   "outputs": [
    {
     "data": {
      "text/plain": [
       "['assists',\n",
       " 'faceoffWinPctg',\n",
       " 'goals',\n",
       " 'playerBirthDate',\n",
       " 'playerDraftOverallPickNo',\n",
       " 'playerIsActive',\n",
       " 'playerPositionCode',\n",
       " 'pointsPerGame',\n",
       " 'ppPoints',\n",
       " 'shootingPctg',\n",
       " 'shots',\n",
       " 'timeOnIcePerGame']"
      ]
     },
     "execution_count": 26,
     "metadata": {},
     "output_type": "execute_result"
    }
   ],
   "source": [
    "# Dopping data that should not affect position\n",
    "playerData = playerData.drop(columns=['playerBirthCity', 'playerBirthCountry', 'playerBirthStateProvince', 'playerInHockeyHof', \n",
    "                                      'playerFirstName', 'playerLastName', 'playerNationality', 'playerDraftYear',\n",
    "                                      'playerDraftRoundNo', 'playerTeamsPlayedFor', 'seasonId', 'playerShootsCatches',\n",
    "                                      'playerName', 'gameWinningGoals', 'points', 'penaltyMinutes', 'shiftsPerGame',\n",
    "                                      'shPoints', 'shGoals', 'playerWeight', 'playerHeight', 'playerId', 'otGoals',\n",
    "                                      'plusMinus', 'ppGoals', 'gamesPlayed'])\n",
    "list(playerData)\n"
   ]
  },
  {
   "cell_type": "code",
   "execution_count": 27,
   "metadata": {},
   "outputs": [
    {
     "name": "stdout",
     "output_type": "stream",
     "text": [
      "   assists  faceoffWinPctg  goals playerBirthDate  playerDraftOverallPickNo  \\\n",
      "0       67          0.4136     41      1997-01-13                       1.0   \n",
      "1       68          0.5863     34      1988-01-12                      22.0   \n",
      "2       61          0.6000     39      1993-06-17                      58.0   \n",
      "3       56          0.4372     42      1986-07-31                       2.0   \n",
      "4       58          0.4191     39      1995-09-01                       1.0   \n",
      "\n",
      "   playerIsActive playerPositionCode  pointsPerGame  ppPoints  shootingPctg  \\\n",
      "0               1                  C         1.3170        20        0.1496   \n",
      "1               1                  C         1.2439        36        0.1761   \n",
      "2               1                  R         1.2500        36        0.1397   \n",
      "3               1                  C         1.2564        38        0.1757   \n",
      "4               1                  C         1.3108        32        0.1373   \n",
      "\n",
      "   shots  timeOnIcePerGame  \n",
      "0    274         1293.0975  \n",
      "1    193         1221.8048  \n",
      "2    279         1189.2875  \n",
      "3    239         1139.3974  \n",
      "4    284         1194.3108  \n"
     ]
    }
   ],
   "source": [
    "# Removing inactive players\n",
    "playerData = playerData.query('playerIsActive != 0')\n",
    "playerData = playerData.drop(columns=['playerIsActive'])"
   ]
  },
  {
   "cell_type": "code",
   "execution_count": 28,
   "metadata": {},
   "outputs": [
    {
     "data": {
      "text/plain": [
       "assists                       0\n",
       "faceoffWinPctg                0\n",
       "goals                         0\n",
       "playerBirthDate               0\n",
       "playerDraftOverallPickNo    116\n",
       "playerPositionCode            0\n",
       "pointsPerGame                 0\n",
       "ppPoints                      0\n",
       "shootingPctg                  0\n",
       "shots                         0\n",
       "timeOnIcePerGame              0\n",
       "dtype: int64"
      ]
     },
     "execution_count": 28,
     "metadata": {},
     "output_type": "execute_result"
    }
   ],
   "source": [
    "# Checking for any missing values\n",
    "playerData.isna().sum()"
   ]
  },
  {
   "cell_type": "code",
   "execution_count": 8,
   "metadata": {},
   "outputs": [],
   "source": [
    "# We can see that 116 players went undrafted so we will check to see\n",
    "# the max draft number\n",
    "maxDraftNum = playerData['playerDraftOverallPickNo'].max()\n",
    "playerData['playerDraftOverallPickNo'] = playerData['playerDraftOverallPickNo'].fillna(maxDraftNum + 1)"
   ]
  },
  {
   "cell_type": "code",
   "execution_count": 9,
   "metadata": {},
   "outputs": [
    {
     "data": {
      "text/plain": [
       "assists                     0\n",
       "faceoffWinPctg              0\n",
       "goals                       0\n",
       "playerBirthDate             0\n",
       "playerDraftOverallPickNo    0\n",
       "playerPositionCode          0\n",
       "pointsPerGame               0\n",
       "ppPoints                    0\n",
       "shootingPctg                0\n",
       "shots                       0\n",
       "timeOnIcePerGame            0\n",
       "dtype: int64"
      ]
     },
     "execution_count": 9,
     "metadata": {},
     "output_type": "execute_result"
    }
   ],
   "source": [
    "# Checking to see if the missing values were filled in\n",
    "playerData.isna().sum()"
   ]
  },
  {
   "cell_type": "code",
   "execution_count": 10,
   "metadata": {},
   "outputs": [
    {
     "name": "stdout",
     "output_type": "stream",
     "text": [
      "object\n",
      "0    1997-01-13\n",
      "Name: playerBirthDate, dtype: object\n"
     ]
    }
   ],
   "source": [
    "# Checking format and data type of playerBirtDate\n",
    "print(playerData.playerBirthDate.dtype)\n",
    "print(playerData[:1].playerBirthDate)"
   ]
  },
  {
   "cell_type": "code",
   "execution_count": 11,
   "metadata": {},
   "outputs": [
    {
     "data": {
      "text/html": [
       "<div>\n",
       "<style scoped>\n",
       "    .dataframe tbody tr th:only-of-type {\n",
       "        vertical-align: middle;\n",
       "    }\n",
       "\n",
       "    .dataframe tbody tr th {\n",
       "        vertical-align: top;\n",
       "    }\n",
       "\n",
       "    .dataframe thead th {\n",
       "        text-align: right;\n",
       "    }\n",
       "</style>\n",
       "<table border=\"1\" class=\"dataframe\">\n",
       "  <thead>\n",
       "    <tr style=\"text-align: right;\">\n",
       "      <th></th>\n",
       "      <th>assists</th>\n",
       "      <th>faceoffWinPctg</th>\n",
       "      <th>goals</th>\n",
       "      <th>playerDraftOverallPickNo</th>\n",
       "      <th>playerPositionCode</th>\n",
       "      <th>pointsPerGame</th>\n",
       "      <th>ppPoints</th>\n",
       "      <th>shootingPctg</th>\n",
       "      <th>shots</th>\n",
       "      <th>timeOnIcePerGame</th>\n",
       "      <th>age</th>\n",
       "    </tr>\n",
       "  </thead>\n",
       "  <tbody>\n",
       "    <tr>\n",
       "      <th>0</th>\n",
       "      <td>67</td>\n",
       "      <td>0.4136</td>\n",
       "      <td>41</td>\n",
       "      <td>1.0</td>\n",
       "      <td>C</td>\n",
       "      <td>1.3170</td>\n",
       "      <td>20</td>\n",
       "      <td>0.1496</td>\n",
       "      <td>274</td>\n",
       "      <td>1293.0975</td>\n",
       "      <td>20</td>\n",
       "    </tr>\n",
       "    <tr>\n",
       "      <th>1</th>\n",
       "      <td>68</td>\n",
       "      <td>0.5863</td>\n",
       "      <td>34</td>\n",
       "      <td>22.0</td>\n",
       "      <td>C</td>\n",
       "      <td>1.2439</td>\n",
       "      <td>36</td>\n",
       "      <td>0.1761</td>\n",
       "      <td>193</td>\n",
       "      <td>1221.8048</td>\n",
       "      <td>29</td>\n",
       "    </tr>\n",
       "    <tr>\n",
       "      <th>2</th>\n",
       "      <td>61</td>\n",
       "      <td>0.6000</td>\n",
       "      <td>39</td>\n",
       "      <td>58.0</td>\n",
       "      <td>R</td>\n",
       "      <td>1.2500</td>\n",
       "      <td>36</td>\n",
       "      <td>0.1397</td>\n",
       "      <td>279</td>\n",
       "      <td>1189.2875</td>\n",
       "      <td>24</td>\n",
       "    </tr>\n",
       "    <tr>\n",
       "      <th>3</th>\n",
       "      <td>56</td>\n",
       "      <td>0.4372</td>\n",
       "      <td>42</td>\n",
       "      <td>2.0</td>\n",
       "      <td>C</td>\n",
       "      <td>1.2564</td>\n",
       "      <td>38</td>\n",
       "      <td>0.1757</td>\n",
       "      <td>239</td>\n",
       "      <td>1139.3974</td>\n",
       "      <td>31</td>\n",
       "    </tr>\n",
       "    <tr>\n",
       "      <th>4</th>\n",
       "      <td>58</td>\n",
       "      <td>0.4191</td>\n",
       "      <td>39</td>\n",
       "      <td>1.0</td>\n",
       "      <td>C</td>\n",
       "      <td>1.3108</td>\n",
       "      <td>32</td>\n",
       "      <td>0.1373</td>\n",
       "      <td>284</td>\n",
       "      <td>1194.3108</td>\n",
       "      <td>22</td>\n",
       "    </tr>\n",
       "  </tbody>\n",
       "</table>\n",
       "</div>"
      ],
      "text/plain": [
       "   assists  faceoffWinPctg  goals  playerDraftOverallPickNo  \\\n",
       "0       67          0.4136     41                       1.0   \n",
       "1       68          0.5863     34                      22.0   \n",
       "2       61          0.6000     39                      58.0   \n",
       "3       56          0.4372     42                       2.0   \n",
       "4       58          0.4191     39                       1.0   \n",
       "\n",
       "  playerPositionCode  pointsPerGame  ppPoints  shootingPctg  shots  \\\n",
       "0                  C         1.3170        20        0.1496    274   \n",
       "1                  C         1.2439        36        0.1761    193   \n",
       "2                  R         1.2500        36        0.1397    279   \n",
       "3                  C         1.2564        38        0.1757    239   \n",
       "4                  C         1.3108        32        0.1373    284   \n",
       "\n",
       "   timeOnIcePerGame  age  \n",
       "0         1293.0975   20  \n",
       "1         1221.8048   29  \n",
       "2         1189.2875   24  \n",
       "3         1139.3974   31  \n",
       "4         1194.3108   22  "
      ]
     },
     "execution_count": 11,
     "metadata": {},
     "output_type": "execute_result"
    }
   ],
   "source": [
    "# Adding age column and roughly calculating age based off birth year *note player data is from 2017-2018 season\n",
    "playerData['playerBirthDate'] = playerData['playerBirthDate'].apply(lambda x: x[:4])\n",
    "playerData['age'] = 2017 - playerData['playerBirthDate'].astype(int)\n",
    "playerData = playerData.drop(columns=['playerBirthDate'])\n",
    "playerData.head()"
   ]
  },
  {
   "cell_type": "code",
   "execution_count": 12,
   "metadata": {},
   "outputs": [
    {
     "data": {
      "text/html": [
       "<div>\n",
       "<style scoped>\n",
       "    .dataframe tbody tr th:only-of-type {\n",
       "        vertical-align: middle;\n",
       "    }\n",
       "\n",
       "    .dataframe tbody tr th {\n",
       "        vertical-align: top;\n",
       "    }\n",
       "\n",
       "    .dataframe thead th {\n",
       "        text-align: right;\n",
       "    }\n",
       "</style>\n",
       "<table border=\"1\" class=\"dataframe\">\n",
       "  <thead>\n",
       "    <tr style=\"text-align: right;\">\n",
       "      <th></th>\n",
       "      <th>assists</th>\n",
       "      <th>faceoffWinPctg</th>\n",
       "      <th>goals</th>\n",
       "      <th>playerDraftOverallPickNo</th>\n",
       "      <th>playerPositionCode</th>\n",
       "      <th>pointsPerGame</th>\n",
       "      <th>ppPoints</th>\n",
       "      <th>shootingPctg</th>\n",
       "      <th>shots</th>\n",
       "      <th>timeOnIcePerGame</th>\n",
       "      <th>age</th>\n",
       "    </tr>\n",
       "  </thead>\n",
       "  <tbody>\n",
       "    <tr>\n",
       "      <th>0</th>\n",
       "      <td>67</td>\n",
       "      <td>0.4136</td>\n",
       "      <td>41</td>\n",
       "      <td>1.0</td>\n",
       "      <td>C</td>\n",
       "      <td>1.3170</td>\n",
       "      <td>20</td>\n",
       "      <td>0.1496</td>\n",
       "      <td>274</td>\n",
       "      <td>1293.0975</td>\n",
       "      <td>20</td>\n",
       "    </tr>\n",
       "    <tr>\n",
       "      <th>1</th>\n",
       "      <td>68</td>\n",
       "      <td>0.5863</td>\n",
       "      <td>34</td>\n",
       "      <td>22.0</td>\n",
       "      <td>C</td>\n",
       "      <td>1.2439</td>\n",
       "      <td>36</td>\n",
       "      <td>0.1761</td>\n",
       "      <td>193</td>\n",
       "      <td>1221.8048</td>\n",
       "      <td>29</td>\n",
       "    </tr>\n",
       "    <tr>\n",
       "      <th>2</th>\n",
       "      <td>61</td>\n",
       "      <td>0.6000</td>\n",
       "      <td>39</td>\n",
       "      <td>58.0</td>\n",
       "      <td>W</td>\n",
       "      <td>1.2500</td>\n",
       "      <td>36</td>\n",
       "      <td>0.1397</td>\n",
       "      <td>279</td>\n",
       "      <td>1189.2875</td>\n",
       "      <td>24</td>\n",
       "    </tr>\n",
       "    <tr>\n",
       "      <th>3</th>\n",
       "      <td>56</td>\n",
       "      <td>0.4372</td>\n",
       "      <td>42</td>\n",
       "      <td>2.0</td>\n",
       "      <td>C</td>\n",
       "      <td>1.2564</td>\n",
       "      <td>38</td>\n",
       "      <td>0.1757</td>\n",
       "      <td>239</td>\n",
       "      <td>1139.3974</td>\n",
       "      <td>31</td>\n",
       "    </tr>\n",
       "    <tr>\n",
       "      <th>4</th>\n",
       "      <td>58</td>\n",
       "      <td>0.4191</td>\n",
       "      <td>39</td>\n",
       "      <td>1.0</td>\n",
       "      <td>C</td>\n",
       "      <td>1.3108</td>\n",
       "      <td>32</td>\n",
       "      <td>0.1373</td>\n",
       "      <td>284</td>\n",
       "      <td>1194.3108</td>\n",
       "      <td>22</td>\n",
       "    </tr>\n",
       "  </tbody>\n",
       "</table>\n",
       "</div>"
      ],
      "text/plain": [
       "   assists  faceoffWinPctg  goals  playerDraftOverallPickNo  \\\n",
       "0       67          0.4136     41                       1.0   \n",
       "1       68          0.5863     34                      22.0   \n",
       "2       61          0.6000     39                      58.0   \n",
       "3       56          0.4372     42                       2.0   \n",
       "4       58          0.4191     39                       1.0   \n",
       "\n",
       "  playerPositionCode  pointsPerGame  ppPoints  shootingPctg  shots  \\\n",
       "0                  C         1.3170        20        0.1496    274   \n",
       "1                  C         1.2439        36        0.1761    193   \n",
       "2                  W         1.2500        36        0.1397    279   \n",
       "3                  C         1.2564        38        0.1757    239   \n",
       "4                  C         1.3108        32        0.1373    284   \n",
       "\n",
       "   timeOnIcePerGame  age  \n",
       "0         1293.0975   20  \n",
       "1         1221.8048   29  \n",
       "2         1189.2875   24  \n",
       "3         1139.3974   31  \n",
       "4         1194.3108   22  "
      ]
     },
     "execution_count": 12,
     "metadata": {},
     "output_type": "execute_result"
    }
   ],
   "source": [
    "# Mapping 'R' (Right Wing) and 'L' (Left Wing) to just 'W' (Wing)\n",
    "wings = {'R': 'W', 'L': 'W', 'C': 'C', 'D': 'D'}\n",
    "playerData['playerPositionCode'] = playerData['playerPositionCode'].map(wings)\n",
    "playerData.head()"
   ]
  },
  {
   "cell_type": "code",
   "execution_count": 13,
   "metadata": {},
   "outputs": [],
   "source": [
    "# Splitting data up into my features and my label\n",
    "playerData.reset_index(drop=True) \n",
    "X = playerData.drop(columns=['playerPositionCode']).copy()\n",
    "feature_list = list(X)\n",
    "y = playerData['playerPositionCode']\n",
    "X = preprocessing.scale(X)"
   ]
  },
  {
   "cell_type": "code",
   "execution_count": 14,
   "metadata": {},
   "outputs": [],
   "source": [
    "# Splitting our dataframe into our taining and test sets\n",
    "X_train, X_test, y_train, y_test = cross_validation.train_test_split(X, y, test_size=0.2)"
   ]
  },
  {
   "cell_type": "code",
   "execution_count": 15,
   "metadata": {},
   "outputs": [
    {
     "name": "stdout",
     "output_type": "stream",
     "text": [
      "0.7469135802469136\n"
     ]
    },
    {
     "data": {
      "text/plain": [
       "<matplotlib.legend.Legend at 0x1e16e6d1710>"
      ]
     },
     "execution_count": 15,
     "metadata": {},
     "output_type": "execute_result"
    },
    {
     "data": {
      "image/png": "[encoded data removed]",
      "text/plain": [
       "<Figure size 432x288 with 1 Axes>"
      ]
     },
     "metadata": {},
     "output_type": "display_data"
    }
   ],
   "source": [
    "rf = RandomForestClassifier(n_estimators=100,max_features=None)\n",
    "rf.fit(X_train, y_train)\n",
    "pred = rf.predict(X_test)\n",
    "\n",
    "print(rf.score(X_test, y_test))\n",
    "\n",
    "plt.plot(pred[:20])\n",
    "plt.plot(y_test.values[:20])\n",
    "plt.xticks([])\n",
    "plt.legend(['Predicted Position', 'Actual Position'])"
   ]
  },
  {
   "cell_type": "code",
   "execution_count": 16,
   "metadata": {},
   "outputs": [
    {
     "data": {
      "text/html": [
       "<div>\n",
       "<style scoped>\n",
       "    .dataframe tbody tr th:only-of-type {\n",
       "        vertical-align: middle;\n",
       "    }\n",
       "\n",
       "    .dataframe tbody tr th {\n",
       "        vertical-align: top;\n",
       "    }\n",
       "\n",
       "    .dataframe thead th {\n",
       "        text-align: right;\n",
       "    }\n",
       "</style>\n",
       "<table border=\"1\" class=\"dataframe\">\n",
       "  <thead>\n",
       "    <tr style=\"text-align: right;\">\n",
       "      <th></th>\n",
       "      <th>importance</th>\n",
       "    </tr>\n",
       "    <tr>\n",
       "      <th>feature</th>\n",
       "      <th></th>\n",
       "    </tr>\n",
       "  </thead>\n",
       "  <tbody>\n",
       "    <tr>\n",
       "      <th>faceoffWinPctg</th>\n",
       "      <td>0.462</td>\n",
       "    </tr>\n",
       "    <tr>\n",
       "      <th>timeOnIcePerGame</th>\n",
       "      <td>0.172</td>\n",
       "    </tr>\n",
       "    <tr>\n",
       "      <th>shootingPctg</th>\n",
       "      <td>0.071</td>\n",
       "    </tr>\n",
       "    <tr>\n",
       "      <th>shots</th>\n",
       "      <td>0.063</td>\n",
       "    </tr>\n",
       "    <tr>\n",
       "      <th>age</th>\n",
       "      <td>0.063</td>\n",
       "    </tr>\n",
       "    <tr>\n",
       "      <th>playerDraftOverallPickNo</th>\n",
       "      <td>0.052</td>\n",
       "    </tr>\n",
       "    <tr>\n",
       "      <th>pointsPerGame</th>\n",
       "      <td>0.042</td>\n",
       "    </tr>\n",
       "    <tr>\n",
       "      <th>assists</th>\n",
       "      <td>0.034</td>\n",
       "    </tr>\n",
       "    <tr>\n",
       "      <th>goals</th>\n",
       "      <td>0.023</td>\n",
       "    </tr>\n",
       "    <tr>\n",
       "      <th>ppPoints</th>\n",
       "      <td>0.018</td>\n",
       "    </tr>\n",
       "  </tbody>\n",
       "</table>\n",
       "</div>"
      ],
      "text/plain": [
       "                          importance\n",
       "feature                             \n",
       "faceoffWinPctg                 0.462\n",
       "timeOnIcePerGame               0.172\n",
       "shootingPctg                   0.071\n",
       "shots                          0.063\n",
       "age                            0.063\n",
       "playerDraftOverallPickNo       0.052\n",
       "pointsPerGame                  0.042\n",
       "assists                        0.034\n",
       "goals                          0.023\n",
       "ppPoints                       0.018"
      ]
     },
     "execution_count": 16,
     "metadata": {},
     "output_type": "execute_result"
    }
   ],
   "source": [
    "# Checking out most important features\n",
    "importances = pd.DataFrame({'feature':feature_list,'importance':np.round(rf.feature_importances_,3)})\n",
    "importances = importances.sort_values('importance',ascending=False).set_index('feature')\n",
    "importances.head(15)"
   ]
  },
  {
   "cell_type": "code",
   "execution_count": 17,
   "metadata": {},
   "outputs": [
    {
     "name": "stdout",
     "output_type": "stream",
     "text": [
      "0.7098765432098766\n"
     ]
    },
    {
     "data": {
      "text/plain": [
       "<matplotlib.legend.Legend at 0x1e16e752da0>"
      ]
     },
     "execution_count": 17,
     "metadata": {},
     "output_type": "execute_result"
    },
    {
     "data": {
      "image/png": "[encoded data removed]",
      "text/plain": [
       "<Figure size 432x288 with 1 Axes>"
      ]
     },
     "metadata": {},
     "output_type": "display_data"
    }
   ],
   "source": [
    "knn = KNeighborsClassifier(n_neighbors = 5)\n",
    "knn.fit(X_train, y_train)\n",
    "pred = knn.predict(X_test)\n",
    "\n",
    "print(knn.score(X_test, y_test))\n",
    "\n",
    "plt.plot(pred[:20])\n",
    "plt.plot(y_test.values[:20])\n",
    "plt.xticks([])\n",
    "plt.legend(['Predicted Position', 'Actual Position'])"
   ]
  },
  {
   "cell_type": "code",
   "execution_count": 18,
   "metadata": {},
   "outputs": [
    {
     "data": {
      "text/html": [
       "<div>\n",
       "<style scoped>\n",
       "    .dataframe tbody tr th:only-of-type {\n",
       "        vertical-align: middle;\n",
       "    }\n",
       "\n",
       "    .dataframe tbody tr th {\n",
       "        vertical-align: top;\n",
       "    }\n",
       "\n",
       "    .dataframe thead th {\n",
       "        text-align: right;\n",
       "    }\n",
       "</style>\n",
       "<table border=\"1\" class=\"dataframe\">\n",
       "  <thead>\n",
       "    <tr style=\"text-align: right;\">\n",
       "      <th></th>\n",
       "      <th>assists</th>\n",
       "      <th>faceoffWinPctg</th>\n",
       "      <th>goals</th>\n",
       "      <th>playerDraftOverallPickNo</th>\n",
       "      <th>playerPositionCode</th>\n",
       "      <th>pointsPerGame</th>\n",
       "      <th>ppPoints</th>\n",
       "      <th>shootingPctg</th>\n",
       "      <th>shots</th>\n",
       "      <th>timeOnIcePerGame</th>\n",
       "      <th>age</th>\n",
       "    </tr>\n",
       "  </thead>\n",
       "  <tbody>\n",
       "    <tr>\n",
       "      <th>0</th>\n",
       "      <td>67</td>\n",
       "      <td>0.4136</td>\n",
       "      <td>41</td>\n",
       "      <td>1.0</td>\n",
       "      <td>F</td>\n",
       "      <td>1.3170</td>\n",
       "      <td>20</td>\n",
       "      <td>0.1496</td>\n",
       "      <td>274</td>\n",
       "      <td>1293.0975</td>\n",
       "      <td>20</td>\n",
       "    </tr>\n",
       "    <tr>\n",
       "      <th>1</th>\n",
       "      <td>68</td>\n",
       "      <td>0.5863</td>\n",
       "      <td>34</td>\n",
       "      <td>22.0</td>\n",
       "      <td>F</td>\n",
       "      <td>1.2439</td>\n",
       "      <td>36</td>\n",
       "      <td>0.1761</td>\n",
       "      <td>193</td>\n",
       "      <td>1221.8048</td>\n",
       "      <td>29</td>\n",
       "    </tr>\n",
       "    <tr>\n",
       "      <th>2</th>\n",
       "      <td>61</td>\n",
       "      <td>0.6000</td>\n",
       "      <td>39</td>\n",
       "      <td>58.0</td>\n",
       "      <td>F</td>\n",
       "      <td>1.2500</td>\n",
       "      <td>36</td>\n",
       "      <td>0.1397</td>\n",
       "      <td>279</td>\n",
       "      <td>1189.2875</td>\n",
       "      <td>24</td>\n",
       "    </tr>\n",
       "    <tr>\n",
       "      <th>3</th>\n",
       "      <td>56</td>\n",
       "      <td>0.4372</td>\n",
       "      <td>42</td>\n",
       "      <td>2.0</td>\n",
       "      <td>F</td>\n",
       "      <td>1.2564</td>\n",
       "      <td>38</td>\n",
       "      <td>0.1757</td>\n",
       "      <td>239</td>\n",
       "      <td>1139.3974</td>\n",
       "      <td>31</td>\n",
       "    </tr>\n",
       "    <tr>\n",
       "      <th>4</th>\n",
       "      <td>58</td>\n",
       "      <td>0.4191</td>\n",
       "      <td>39</td>\n",
       "      <td>1.0</td>\n",
       "      <td>F</td>\n",
       "      <td>1.3108</td>\n",
       "      <td>32</td>\n",
       "      <td>0.1373</td>\n",
       "      <td>284</td>\n",
       "      <td>1194.3108</td>\n",
       "      <td>22</td>\n",
       "    </tr>\n",
       "  </tbody>\n",
       "</table>\n",
       "</div>"
      ],
      "text/plain": [
       "   assists  faceoffWinPctg  goals  playerDraftOverallPickNo  \\\n",
       "0       67          0.4136     41                       1.0   \n",
       "1       68          0.5863     34                      22.0   \n",
       "2       61          0.6000     39                      58.0   \n",
       "3       56          0.4372     42                       2.0   \n",
       "4       58          0.4191     39                       1.0   \n",
       "\n",
       "  playerPositionCode  pointsPerGame  ppPoints  shootingPctg  shots  \\\n",
       "0                  F         1.3170        20        0.1496    274   \n",
       "1                  F         1.2439        36        0.1761    193   \n",
       "2                  F         1.2500        36        0.1397    279   \n",
       "3                  F         1.2564        38        0.1757    239   \n",
       "4                  F         1.3108        32        0.1373    284   \n",
       "\n",
       "   timeOnIcePerGame  age  \n",
       "0         1293.0975   20  \n",
       "1         1221.8048   29  \n",
       "2         1189.2875   24  \n",
       "3         1139.3974   31  \n",
       "4         1194.3108   22  "
      ]
     },
     "execution_count": 18,
     "metadata": {},
     "output_type": "execute_result"
    }
   ],
   "source": [
    "# Mapping 'W' (Wing) and 'C' (Center) to 'F' (Forward) to  check how accurately it can predict forwards from defence\n",
    "wings = {'W': 'F', 'C': 'F', 'D': 'D'}\n",
    "playerData['playerPositionCode'] = playerData['playerPositionCode'].map(wings)\n",
    "playerData.head()"
   ]
  },
  {
   "cell_type": "code",
   "execution_count": 19,
   "metadata": {},
   "outputs": [],
   "source": [
    "# Splitting data up into my features and my label\n",
    "\n",
    "X = playerData.drop(columns=['playerPositionCode']).copy()\n",
    "y = playerData['playerPositionCode']\n",
    "X = preprocessing.scale(X)"
   ]
  },
  {
   "cell_type": "code",
   "execution_count": 20,
   "metadata": {},
   "outputs": [],
   "source": [
    "# Splitting our dataframe into our taining and test sets\n",
    "X_train, X_test, y_train, y_test = cross_validation.train_test_split(X, y, test_size=0.2)"
   ]
  },
  {
   "cell_type": "code",
   "execution_count": 21,
   "metadata": {},
   "outputs": [
    {
     "name": "stdout",
     "output_type": "stream",
     "text": [
      "0.9320987654320988\n"
     ]
    },
    {
     "data": {
      "text/plain": [
       "<matplotlib.legend.Legend at 0x1e16e9c57f0>"
      ]
     },
     "execution_count": 21,
     "metadata": {},
     "output_type": "execute_result"
    },
    {
     "data": {
      "image/png": "[encoded data removed]",
      "text/plain": [
       "<Figure size 432x288 with 1 Axes>"
      ]
     },
     "metadata": {},
     "output_type": "display_data"
    }
   ],
   "source": [
    "rf = RandomForestClassifier(n_estimators=100,max_features=None)\n",
    "rf.fit(X_train, y_train)\n",
    "pred = rf.predict(X_test)\n",
    "\n",
    "print(rf.score(X_test, y_test))\n",
    "\n",
    "plt.plot(pred[:20])\n",
    "plt.plot(y_test.values[:20])\n",
    "plt.xticks([])\n",
    "plt.legend(['Predicted Position', 'Actual Position'])"
   ]
  }
 ],
 "metadata": {
  "kernelspec": {
   "display_name": "Python 3",
   "language": "python",
   "name": "python3"
  },
  "language_info": {
   "codemirror_mode": {
    "name": "ipython",
    "version": 3
   },
   "file_extension": ".py",
   "mimetype": "text/x-python",
   "name": "python",
   "nbconvert_exporter": "python",
   "pygments_lexer": "ipython3",
   "version": "3.6.5"
  }
 },
 "nbformat": 4,
 "nbformat_minor": 2
}
